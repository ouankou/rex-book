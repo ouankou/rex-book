{
 "cells": [
  {
   "cell_type": "code",
   "execution_count": 6,
   "metadata": {},
   "outputs": [
    {
     "name": "stdout",
     "output_type": "stream",
     "text": [
      "Hello World on GPU: 0\n",
      "Hello World on GPU: 0\n",
      "Hello World on GPU: 0\n",
      "Hello World on GPU: 0\n",
      "Hello World on GPU: 1\n",
      "Hello World on GPU: 1\n",
      "Hello World on GPU: 1\n",
      "Hello World on GPU: 1\n"
     ]
    }
   ],
   "source": [
    "//%compiler: clang\n",
    "//%cflags: -fopenmp -fopenmp-targets=nvptx64 --cuda-path=/opt/nvidia/hpc_sdk/Linux_x86_64/23.11/cuda\n",
    "\n",
    "#include <stdio.h>\n",
    "#include <omp.h>\n",
    "\n",
    "int main(int argc, char *argv[]){\n",
    "    #pragma omp parallel num_threads(4)\n",
    "    printf(\"%s on GPU: %d\\n\", \"Hello World\", !omp_is_initial_device());\n",
    "    \n",
    "    #pragma omp target parallel num_threads(4)\n",
    "    printf(\"%s on GPU: %d\\n\", \"Hello World\", !omp_is_initial_device());\n",
    "    \n",
    "    return 0;\n",
    "}"
   ]
  }
 ],
 "metadata": {
  "kernelspec": {
   "display_name": "Native",
   "language": "native",
   "name": "native"
  },
  "language_info": {
   "file_extension": ".c",
   "mimetype": "text/plain",
   "name": "c"
  },
  "widgets": {
   "application/vnd.jupyter.widget-state+json": {
    "state": {},
    "version_major": 2,
    "version_minor": 0
   }
  }
 },
 "nbformat": 4,
 "nbformat_minor": 4
}
